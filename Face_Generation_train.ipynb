{
 "cells": [
  {
   "cell_type": "code",
   "execution_count": null,
   "metadata": {},
   "outputs": [],
   "source": [
    "import torch\n",
    "import torchvision\n",
    "import os\n",
    "import matplotlib.pyplot as plt\n",
    "import random\n",
    "%matplotlib inline"
   ]
  },
  {
   "cell_type": "code",
   "execution_count": null,
   "metadata": {},
   "outputs": [],
   "source": [
    "random.seed(0)\n",
    "torch.cuda.get_device_capability(device=None)\n",
    "torch.cuda.get_device_name(device=None)"
   ]
  },
  {
   "cell_type": "code",
   "execution_count": null,
   "metadata": {},
   "outputs": [],
   "source": [
    "transform = torchvision.transforms.Compose([\n",
    "    torchvision.transforms.Resize(128),\n",
    "    torchvision.transforms.CenterCrop(128),\n",
    "    torchvision.transforms.ToTensor(),\n",
    "    #torchvision.transforms.Normalize((0.5, 0.5, 0.5), (0.5, 0.5, 0.5))\n",
    "])\n",
    "\n",
    "dataset = torchvision.datasets.ImageFolder(\"/kaggle/input/celeba-dataset/img_align_celeba\", transform = transform)\n",
    "data_loader = torch.utils.data.DataLoader(dataset=dataset, batch_size=100, shuffle=True, num_workers=8, drop_last=True)\n",
    "print(len(dataset))"
   ]
  },
  {
   "cell_type": "code",
   "execution_count": null,
   "metadata": {
    "_kg_hide-output": false
   },
   "outputs": [],
   "source": [
    "figure, axes = plt.subplots(2, 2)\n",
    "axes[(0, 0)].imshow(dataset[random.randint(0, 100)][0].permute(1, 2, 0))\n",
    "axes[0, 1].imshow(dataset[random.randint(0, 100)][0].permute(1, 2, 0))\n",
    "axes[1, 0].imshow(dataset[random.randint(0, 100)][0].permute(1, 2, 0))\n",
    "axes[1, 1].imshow(dataset[random.randint(0, 100)][0].permute(1, 2, 0))"
   ]
  },
  {
   "cell_type": "code",
   "execution_count": null,
   "metadata": {},
   "outputs": [],
   "source": [
    "def weights_init(m):\n",
    "    classname = m.__class__.__name__\n",
    "    if classname.find('Conv') != -1:\n",
    "        torch.nn.init.normal_(m.weight.data, 0.0, 0.02)\n",
    "    elif classname.find('BatchNorm') != -1:\n",
    "        torch.nn.init.normal_(m.weight.data, 1.0, 0.02)\n",
    "        torch.nn.init.constant_(m.bias.data, 0)"
   ]
  },
  {
   "cell_type": "code",
   "execution_count": null,
   "metadata": {},
   "outputs": [],
   "source": [
    "num_epochs = 10\n",
    "ngpu = torch.cuda.device_count()\n",
    "device = torch.device(\"cuda:0\" if (torch.cuda.is_available() and ngpu > 0) else \"cpu\")"
   ]
  },
  {
   "cell_type": "code",
   "execution_count": null,
   "metadata": {},
   "outputs": [],
   "source": [
    "class Generator(torch.nn.Module):\n",
    "    def __init__(self, ngpu):\n",
    "        super(Generator, self).__init__()\n",
    "        self.ngpu = ngpu\n",
    "        self.main = torch.nn.Sequential(\n",
    "            torch.nn.ConvTranspose2d(in_channels = 100, out_channels = 64, kernel_size = 4, stride = 1, padding = 0, output_padding = 0, bias=True),\n",
    "            torch.nn.BatchNorm2d(64),\n",
    "            torch.nn.ReLU(True),\n",
    "            torch.nn.ConvTranspose2d(in_channels = 64, out_channels = 64, kernel_size = 4, stride = 2, padding = 1, output_padding = 0, bias=True),\n",
    "            torch.nn.BatchNorm2d(64),\n",
    "            torch.nn.ReLU(True),\n",
    "            torch.nn.ConvTranspose2d(in_channels = 64, out_channels = 64, kernel_size = 4, stride = 2, padding = 1, output_padding = 0, bias=True),\n",
    "            torch.nn.BatchNorm2d(64),\n",
    "            torch.nn.ReLU(True),\n",
    "            torch.nn.ConvTranspose2d(in_channels = 64, out_channels = 64, kernel_size = 4, stride = 2, padding = 1, output_padding = 0, bias=True),\n",
    "            torch.nn.BatchNorm2d(64),\n",
    "            torch.nn.ReLU(True),\n",
    "            torch.nn.ConvTranspose2d(in_channels = 64, out_channels = 64, kernel_size = 4, stride = 2, padding = 1, output_padding = 0, bias=True),\n",
    "            torch.nn.BatchNorm2d(64),\n",
    "            torch.nn.ReLU(True),\n",
    "            torch.nn.ConvTranspose2d(in_channels = 64, out_channels = 3, kernel_size = 4, stride = 2, padding = 1, output_padding = 0, bias=True),\n",
    "            torch.nn.Tanh()\n",
    "        )\n",
    "\n",
    "    def forward(self, input):\n",
    "        return self.main(input)"
   ]
  },
  {
   "cell_type": "code",
   "execution_count": null,
   "metadata": {},
   "outputs": [],
   "source": [
    "generator = Generator(ngpu).to(device)\n",
    "if (device.type == 'cuda') and (ngpu > 1):\n",
    "    generator = torch.nn.DataParallel(generator, list(range(ngpu)))\n",
    "generator.apply(weights_init)\n",
    "print(generator)"
   ]
  },
  {
   "cell_type": "code",
   "execution_count": null,
   "metadata": {},
   "outputs": [],
   "source": [
    "class Discriminator(torch.nn.Module):\n",
    "    def __init__(self, ngpu):\n",
    "        super().__init__()\n",
    "        self.ngpu = ngpu\n",
    "        self.main = torch.nn.Sequential(\n",
    "            torch.nn.Conv2d(in_channels = 3, out_channels = 64, kernel_size = 3, stride = 2, bias = True),\n",
    "            torch.nn.Conv2d(in_channels = 64, out_channels = 128, kernel_size = 3, stride = 2, bias = True),\n",
    "            torch.nn.ReLU(inplace=True),\n",
    "            torch.nn.Conv2d(in_channels = 128, out_channels = 256, kernel_size = 3, stride = 2, bias = True),\n",
    "            torch.nn.ReLU(inplace=True),\n",
    "            torch.nn.Conv2d(in_channels = 256, out_channels = 512, kernel_size = 3, stride = 2, bias = True),\n",
    "            torch.nn.ReLU(inplace=True),\n",
    "            torch.nn.Conv2d(in_channels = 512, out_channels = 1024, kernel_size = 3, stride = 2, bias = True),\n",
    "            torch.nn.ReLU(inplace=True),\n",
    "            torch.nn.Conv2d(in_channels = 1024, out_channels = 2048, kernel_size = 3, stride = 2, bias = True),\n",
    "            torch.nn.ReLU(inplace=True),\n",
    "            torch.nn.Conv2d(in_channels = 2048, out_channels = 256, kernel_size = 1, bias = True),\n",
    "            torch.nn.ReLU(inplace=True),\n",
    "            torch.nn.Conv2d(in_channels = 256, out_channels = 1, kernel_size = 1),\n",
    "            torch.nn.Sigmoid()\n",
    "        )\n",
    "\n",
    "    def forward(self, input):\n",
    "        return self.main(input)"
   ]
  },
  {
   "cell_type": "code",
   "execution_count": null,
   "metadata": {},
   "outputs": [],
   "source": [
    "discriminator = Discriminator(ngpu).to(device)\n",
    "if (device.type == 'cuda') and (ngpu > 1):\n",
    "    discriminator = torch.nn.DataParallel(discriminator, list(range(ngpu)))\n",
    "discriminator.apply(weights_init)\n",
    "print(discriminator)"
   ]
  },
  {
   "cell_type": "code",
   "execution_count": null,
   "metadata": {},
   "outputs": [],
   "source": [
    "criterion = torch.nn.BCELoss()\n",
    "optimizer_discriminator = torch.optim.Adam(discriminator.parameters(), lr = 0.0002, betas = (0.5, 0.999))\n",
    "optimizer_generator = torch.optim.Adam(generator.parameters(), lr = 0.0002, betas = (0.5, 0.999))"
   ]
  },
  {
   "cell_type": "code",
   "execution_count": null,
   "metadata": {},
   "outputs": [],
   "source": [
    "for epoch in range(num_epochs):\n",
    "    for i, data in enumerate(data_loader, 0):\n",
    "        discriminator.zero_grad()\n",
    "        label = torch.full((100, ), 1, device=device)\n",
    "        output = discriminator(data[0].to(device)).view(-1)\n",
    "        error_discriminator_real = criterion(output, label)\n",
    "        error_discriminator_real.backward()\n",
    "        noise = torch.randn(100, 100, 1, 1, device=device)\n",
    "        fake = generator(noise)\n",
    "        label.fill_(0)\n",
    "        output = discriminator(fake.detach()).view(-1)\n",
    "        error_discriminator_fake = criterion(output, label)\n",
    "        error_discriminator_fake.backward()\n",
    "        error_discriminator = error_discriminator_real + error_discriminator_fake\n",
    "        optimizer_discriminator.step()\n",
    "        generator.zero_grad()\n",
    "        label.fill_(1)\n",
    "        output = discriminator(fake).view(-1)\n",
    "        error_generator = criterion(output, label)\n",
    "        error_generator.backward()\n",
    "        optimizer_generator.step()\n",
    "        if i % 50 == 0:\n",
    "            print('[%3d/%3d][%4d/%4d]\\tLoss_D: %.4f\\tLoss_G: %.4f' % (epoch, num_epochs, i, len(data_loader), error_discriminator.item(), error_generator.item()))"
   ]
  },
  {
   "cell_type": "code",
   "execution_count": null,
   "metadata": {},
   "outputs": [],
   "source": [
    "torch.save(discriminator.state_dict(), \"/kaggle/working/discriminator\")"
   ]
  },
  {
   "cell_type": "code",
   "execution_count": null,
   "metadata": {},
   "outputs": [],
   "source": [
    "torch.save(generator.state_dict(), \"/kaggle/working/generator\")"
   ]
  },
  {
   "cell_type": "code",
   "execution_count": null,
   "metadata": {},
   "outputs": [],
   "source": [
    "noise = torch.randn(1, 100, 1, 1, device=device)\n",
    "output = generator(noise)\n",
    "output.cpu().detach().shape\n",
    "plt.imshow(output.cpu().detach()[0].permute(1, 2, 0))"
   ]
  },
  {
   "cell_type": "code",
   "execution_count": null,
   "metadata": {},
   "outputs": [],
   "source": [
    "noise = torch.randn(1, 100, 1, 1, device=device)\n",
    "output = generator(noise)\n",
    "output.cpu().detach().shape\n",
    "plt.imshow(output.cpu().detach()[0].permute(1, 2, 0))"
   ]
  },
  {
   "cell_type": "code",
   "execution_count": null,
   "metadata": {},
   "outputs": [],
   "source": [
    "noise = torch.randn(1, 100, 1, 1, device=device)\n",
    "output = generator(noise)\n",
    "output.cpu().detach().shape\n",
    "plt.imshow(output.cpu().detach()[0].permute(1, 2, 0))"
   ]
  },
  {
   "cell_type": "code",
   "execution_count": null,
   "metadata": {},
   "outputs": [],
   "source": [
    "noise = torch.randn(1, 100, 1, 1, device=device)\n",
    "output = generator(noise)\n",
    "output.cpu().detach().shape\n",
    "plt.imshow(output.cpu().detach()[0].permute(1, 2, 0))"
   ]
  },
  {
   "cell_type": "code",
   "execution_count": null,
   "metadata": {},
   "outputs": [],
   "source": [
    "noise = torch.randn(1, 100, 1, 1, device=device)\n",
    "output = generator(noise)\n",
    "output.cpu().detach().shape\n",
    "plt.imshow(output.cpu().detach()[0].permute(1, 2, 0))"
   ]
  },
  {
   "cell_type": "code",
   "execution_count": null,
   "metadata": {},
   "outputs": [],
   "source": [
    "noise = torch.randn(1, 100, 1, 1, device=device)\n",
    "output = generator(noise)\n",
    "output.cpu().detach().shape\n",
    "plt.imshow(output.cpu().detach()[0].permute(1, 2, 0))"
   ]
  },
  {
   "cell_type": "code",
   "execution_count": null,
   "metadata": {},
   "outputs": [],
   "source": [
    "noise = torch.randn(1, 100, 1, 1, device=device)\n",
    "output = generator(noise)\n",
    "output.cpu().detach().shape\n",
    "plt.imshow(output.cpu().detach()[0].permute(1, 2, 0))"
   ]
  },
  {
   "cell_type": "code",
   "execution_count": null,
   "metadata": {},
   "outputs": [],
   "source": [
    "noise = torch.randn(1, 100, 1, 1, device=device)\n",
    "output = generator(noise)\n",
    "output.cpu().detach().shape\n",
    "plt.imshow(output.cpu().detach()[0].permute(1, 2, 0))"
   ]
  },
  {
   "cell_type": "code",
   "execution_count": null,
   "metadata": {},
   "outputs": [],
   "source": [
    "noise = torch.randn(1, 100, 1, 1, device=device)\n",
    "output = generator(noise)\n",
    "output.cpu().detach().shape\n",
    "plt.imshow(output.cpu().detach()[0].permute(1, 2, 0))"
   ]
  },
  {
   "cell_type": "code",
   "execution_count": null,
   "metadata": {},
   "outputs": [],
   "source": [
    "noise = torch.randn(1, 100, 1, 1, device=device)\n",
    "output = generator(noise)\n",
    "output.cpu().detach().shape\n",
    "plt.imshow(output.cpu().detach()[0].permute(1, 2, 0))"
   ]
  },
  {
   "cell_type": "code",
   "execution_count": null,
   "metadata": {},
   "outputs": [],
   "source": [
    "noise = torch.randn(1, 100, 1, 1, device=device)\n",
    "output = generator(noise)\n",
    "output.cpu().detach().shape\n",
    "plt.imshow(output.cpu().detach()[0].permute(1, 2, 0))"
   ]
  }
 ],
 "metadata": {
  "kernelspec": {
   "display_name": "Python 3",
   "language": "python",
   "name": "python3"
  },
  "language_info": {
   "codemirror_mode": {
    "name": "ipython",
    "version": 3
   },
   "file_extension": ".py",
   "mimetype": "text/x-python",
   "name": "python",
   "nbconvert_exporter": "python",
   "pygments_lexer": "ipython3",
   "version": "3.8.3"
  }
 },
 "nbformat": 4,
 "nbformat_minor": 4
}
